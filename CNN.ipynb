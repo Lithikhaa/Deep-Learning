{
  "nbformat": 4,
  "nbformat_minor": 0,
  "metadata": {
    "colab": {
      "provenance": []
    },
    "kernelspec": {
      "name": "python3",
      "display_name": "Python 3"
    },
    "language_info": {
      "name": "python"
    }
  },
  "cells": [
    {
      "cell_type": "markdown",
      "source": [
        "Convolutional neural networks"
      ],
      "metadata": {
        "id": "5Ps0ezY37qkS"
      }
    },
    {
      "cell_type": "markdown",
      "source": [
        "**numpy** is used for numerial computing and Images can be represented as multi dimensional arrays which represents pixel value"
      ],
      "metadata": {
        "id": "AMunRuknDlKl"
      }
    },
    {
      "cell_type": "code",
      "execution_count": null,
      "metadata": {
        "id": "nINaPGTr7Rmd"
      },
      "outputs": [],
      "source": [
        "import numpy as np"
      ]
    },
    {
      "cell_type": "markdown",
      "source": [
        "**num_filters = 8** #passed as one argument\n",
        "\n",
        "8,3,3 / 9 ---> 9 & 3,3 will be cancel balance 8 will get *self filters will be 8*"
      ],
      "metadata": {
        "id": "HzIsAT91EZQe"
      }
    },
    {
      "cell_type": "code",
      "source": [
        "class Conv3X3:\n",
        "\n",
        "  def __init__(self,num_filters):\n",
        "    self.num_filters = num_filters\n",
        "    self.filters = np.random.randn(num_filters,3, 3)/9 #8,3,3\n"
      ],
      "metadata": {
        "id": "lJ_YlyNE-poC"
      },
      "execution_count": null,
      "outputs": []
    },
    {
      "cell_type": "markdown",
      "source": [
        "**VALID PADDING IS USED** it reduces the one row and column from the image\n",
        "*h--28*\n",
        "*w--28*"
      ],
      "metadata": {
        "id": "7xHxEgPvFE14"
      }
    },
    {
      "cell_type": "code",
      "source": [
        "class Conv3x3:\n",
        "\n",
        "  def iterate_regions(self, image):\n",
        "\n",
        "    h, w = image.shape\n",
        "\n",
        "    for i in range(h - 2):\n",
        "      for j in range(w - 2):\n",
        "        im_region = image[i:(i + 3), j:(j + 3)] #0:2,0:2--->(0,1,2),(0,1,2)--->3,3\n",
        "        yield im_region, i, j #yield is used for memory allocation every time it will not store (3,3),(4,4),(5,5)values it holds (3,3) as i,j\n",
        "\n",
        "  def forward(self, input):\n",
        "\n",
        "    h, w = input.shape\n",
        "    output = np.zeros((h - 2, w - 2, self.num_filters)) #every row&col will be filled with zeros (26,26,8)\n",
        "\n",
        "    for im_region, i, j in self.iterate_regions(input):\n",
        "      output[i, j] = np.sum(im_region * self.filters, axis=(1, 2)) #crosscorrelation\n",
        "\n",
        "    return output"
      ],
      "metadata": {
        "id": "4ZPyMxBs_9kX"
      },
      "execution_count": null,
      "outputs": []
    },
    {
      "cell_type": "code",
      "source": [
        "!pip install mnist\n"
      ],
      "metadata": {
        "colab": {
          "base_uri": "https://localhost:8080/"
        },
        "id": "eIlANO_RA1dV",
        "outputId": "0005a20f-4466-4e7a-be34-0f4e403509f1"
      },
      "execution_count": null,
      "outputs": [
        {
          "output_type": "stream",
          "name": "stdout",
          "text": [
            "Collecting mnist\n",
            "  Downloading mnist-0.2.2-py2.py3-none-any.whl (3.5 kB)\n",
            "Requirement already satisfied: numpy in /usr/local/lib/python3.10/dist-packages (from mnist) (1.23.5)\n",
            "Installing collected packages: mnist\n",
            "Successfully installed mnist-0.2.2\n"
          ]
        }
      ]
    },
    {
      "cell_type": "code",
      "source": [
        "import mnist\n",
        "from conv import Conv3x3\n",
        "\n",
        "\n",
        "train_images = mnist.train_images()\n",
        "train_labels = mnist.train_labels()\n",
        "\n",
        "conv = Conv3x3(8)\n",
        "output = conv.forward(train_images[0])\n",
        "print(output.shape) # (26, 26, 8)"
      ],
      "metadata": {
        "colab": {
          "base_uri": "https://localhost:8080/"
        },
        "id": "nsfFHok1AE2E",
        "outputId": "84242f8e-0e63-43a0-ec40-86fc4fcac0e6"
      },
      "execution_count": null,
      "outputs": [
        {
          "output_type": "stream",
          "name": "stdout",
          "text": [
            "(26, 26, 8)\n"
          ]
        }
      ]
    },
    {
      "cell_type": "markdown",
      "source": [
        "**Pool size - 2**\n",
        " axis=(0, 1) ---> maximize over the first two dimension of height and width"
      ],
      "metadata": {
        "id": "wGUgOcvUHgG5"
      }
    },
    {
      "cell_type": "code",
      "source": [
        "import numpy as np\n",
        "\n",
        "class MaxPool2:\n",
        "\n",
        "\n",
        "  def iterate_regions(self, image):\n",
        "\n",
        "    h, w, _ = image.shape\n",
        "    new_h = h // 2 #14\n",
        "    new_w = w // 2 #14\n",
        "\n",
        "    for i in range(new_h): #(0,14)\n",
        "      for j in range(new_w):\n",
        "        im_region = image[(i * 2):(i * 2 + 2), (j * 2):(j * 2 + 2)] #(0:2),(0:2)\n",
        "        yield im_region, i, j\n",
        "\n",
        "  def forward(self, input):\n",
        "\n",
        "    h, w, num_filters = input.shape\n",
        "    output = np.zeros((h // 2, w // 2, num_filters))\n",
        "\n",
        "    for im_region, i, j in self.iterate_regions(input):\n",
        "      output[i, j] = np.amax(im_region, axis=(0, 1)) #argmax is used for to find the max from\n",
        "\n",
        "    return output"
      ],
      "metadata": {
        "id": "fIKELVzZAFgQ"
      },
      "execution_count": null,
      "outputs": []
    },
    {
      "cell_type": "code",
      "source": [
        "\n",
        "import mnist\n",
        "from conv import Conv3x3\n",
        "from maxpool import MaxPool2\n",
        "\n",
        "\n",
        "train_images = mnist.train_images()\n",
        "train_labels = mnist.train_labels()\n",
        "\n",
        "conv = Conv3x3(8)\n",
        "pool = MaxPool2()\n",
        "\n",
        "output = conv.forward(train_images[0])\n",
        "output = pool.forward(output)\n",
        "print(output.shape) # (13, 13, 8)"
      ],
      "metadata": {
        "colab": {
          "base_uri": "https://localhost:8080/"
        },
        "id": "6SR1oN-hAQfC",
        "outputId": "8a1ba93b-3bab-45db-b142-f13648054017"
      },
      "execution_count": null,
      "outputs": [
        {
          "output_type": "stream",
          "name": "stdout",
          "text": [
            "(13, 13, 8)\n"
          ]
        }
      ]
    },
    {
      "cell_type": "markdown",
      "source": [
        "**Softmax** probability distribution which takes negative value and it mainly used in multi-class classification problems\n",
        "\n",
        "*13 * 13 * 8 --> input_len* - 1352*\n"
      ],
      "metadata": {
        "id": "hC72cEjlImJI"
      }
    },
    {
      "cell_type": "code",
      "source": [
        "import numpy as np\n",
        "\n",
        "class Softmax:\n",
        "\n",
        "  def __init__(self, input_len, nodes):\n",
        "\n",
        "    self.weights = np.random.randn(input_len, nodes) / input_len\n",
        "    self.biases = np.zeros(nodes)\n",
        "\n",
        "  def forward(self, input):\n",
        "\n",
        "    input = input.flatten()\n",
        "\n",
        "    input_len, nodes = self.weights.shape\n",
        "\n",
        "    totals = np.dot(input, self.weights) + self.biases\n",
        "    exp = np.exp(totals) #formula\n",
        "    return exp / np.sum(exp, axis=0)"
      ],
      "metadata": {
        "id": "GZp62qAMAcgi"
      },
      "execution_count": null,
      "outputs": []
    },
    {
      "cell_type": "markdown",
      "source": [
        "*from 1 argument to 8 filters * --># 28x28x1 -> 26x26x8\n",
        "\n",
        "*from filter as 8 to maxpooling* --> # 26x26x8 -> 13x13x8\n",
        "\n",
        "*from pooling to output* --># 13x13x8 -> 10"
      ],
      "metadata": {
        "id": "feUvbf9-KsZ5"
      }
    },
    {
      "cell_type": "code",
      "source": [
        "import mnist\n",
        "import numpy as np\n",
        "from conv import Conv3x3\n",
        "from maxpool import MaxPool2\n",
        "from softmax import Softmax\n",
        "\n",
        "\n",
        "test_images = mnist.test_images()[:1000]\n",
        "test_labels = mnist.test_labels()[:1000]\n",
        "\n",
        "conv = Conv3x3(8)                  # 28x28x1 -> 26x26x8\n",
        "pool = MaxPool2()                  # 26x26x8 -> 13x13x8\n",
        "softmax = Softmax(13 * 13 * 8, 10) # 13x13x8 -> 10\n",
        "\n",
        "def forward(image, label):\n",
        "\n",
        "  out = conv.forward((image / 255) - 0.5) #normalize transform the image from [0, 255] to [-0.5, 0.5]\n",
        "  out = pool.forward(out)\n",
        "  out = softmax.forward(out)\n",
        "\n",
        "\n",
        "  loss = -np.log(out[label])\n",
        "  acc = 1 if np.argmax(out) == label else 0 #output value will be chcek through this condition Eg: if 8 is out then label should get 8 if not acc will be 0\n",
        "\n",
        "  return out, loss, acc\n",
        "\n",
        "print('MNIST CNN initialized!')\n",
        "\n",
        "loss = 0\n",
        "num_correct = 0\n",
        "for i, (im, label) in enumerate(zip(test_images, test_labels)):\n",
        "\n",
        "  _, l, acc = forward(im, label)\n",
        "  loss += l\n",
        "  num_correct += acc\n",
        "\n",
        "\n",
        "  if i % 100 == 99:\n",
        "    print(\n",
        "      '[Step %d] Past 100 steps: Average Loss %.3f | Accuracy: %d%%' %\n",
        "      (i + 1, loss / 100, num_correct)\n",
        "    )\n",
        "    loss = 0\n",
        "    num_correct = 0"
      ],
      "metadata": {
        "colab": {
          "base_uri": "https://localhost:8080/"
        },
        "id": "aHiAlcGPAnQZ",
        "outputId": "adc657fc-c285-46d3-d99f-42809bdcd73b"
      },
      "execution_count": null,
      "outputs": [
        {
          "output_type": "stream",
          "name": "stdout",
          "text": [
            "MNIST CNN initialized!\n",
            "[Step 100] Past 100 steps: Average Loss 2.303 | Accuracy: 8%\n",
            "[Step 200] Past 100 steps: Average Loss 2.302 | Accuracy: 14%\n",
            "[Step 300] Past 100 steps: Average Loss 2.302 | Accuracy: 14%\n",
            "[Step 400] Past 100 steps: Average Loss 2.302 | Accuracy: 16%\n",
            "[Step 500] Past 100 steps: Average Loss 2.303 | Accuracy: 7%\n",
            "[Step 600] Past 100 steps: Average Loss 2.303 | Accuracy: 10%\n",
            "[Step 700] Past 100 steps: Average Loss 2.303 | Accuracy: 12%\n",
            "[Step 800] Past 100 steps: Average Loss 2.302 | Accuracy: 15%\n",
            "[Step 900] Past 100 steps: Average Loss 2.303 | Accuracy: 9%\n",
            "[Step 1000] Past 100 steps: Average Loss 2.302 | Accuracy: 13%\n"
          ]
        }
      ]
    }
  ]
}